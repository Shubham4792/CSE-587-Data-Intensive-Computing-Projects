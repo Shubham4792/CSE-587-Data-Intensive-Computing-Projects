{
 "cells": [
  {
   "cell_type": "code",
   "execution_count": 1,
   "metadata": {
    "collapsed": true
   },
   "outputs": [],
   "source": [
    "#Project done by SHUBHAM SHAILESH PANDEY, UBID - spandey4\n",
    "from nytimesarticle import articleAPI\n",
    "api = articleAPI('1f229c0375cf4155ab7bf894ecea4ff8')"
   ]
  },
  {
   "cell_type": "code",
   "execution_count": 2,
   "metadata": {
    "collapsed": true
   },
   "outputs": [],
   "source": [
    "articles = api.search(q='cambridge analytica', begin_date = 20180406, end_date = 20180407)"
   ]
  },
  {
   "cell_type": "code",
   "execution_count": 3,
   "metadata": {},
   "outputs": [
    {
     "name": "stdout",
     "output_type": "stream",
     "text": [
      "https://www.nytimes.com/aponline/2018/04/06/us/ap-us-facebook-privacy-scandal.html\n",
      "https://www.nytimes.com/aponline/2018/04/06/technology/ap-us-tec-facebook-privacy-scandal-user-notice.html\n",
      "https://www.nytimes.com/2018/04/06/world/canada/ai-2001-space-odyssey.html\n",
      "https://www.nytimes.com/reuters/2018/04/06/technology/06reuters-facebook-cambridge-analytica-eu-letter.html\n",
      "https://www.nytimes.com/reuters/2018/04/06/business/06reuters-facebook-cambridge-analytica-britain.html\n",
      "https://www.nytimes.com/aponline/2018/04/06/world/asia/ap-as-indonesia-facebook.html\n",
      "https://www.nytimes.com/aponline/2018/04/06/world/europe/ap-eu-europe-facebook.html\n",
      "https://www.nytimes.com/reuters/2018/04/06/world/europe/06reuters-facebook-cambridge-analytica-usa-congress.html\n",
      "https://www.nytimes.com/aponline/2018/04/06/us/ap-facebook-privacy-scandal-news-guide.html\n",
      "https://www.nytimes.com/aponline/2018/04/06/us/ap-facebook-privacy-scandal-investigations-glance.html\n"
     ]
    }
   ],
   "source": [
    "for i in range(10):\n",
    "    print(articles['response']['docs'][i]['web_url'])"
   ]
  },
  {
   "cell_type": "code",
   "execution_count": 404,
   "metadata": {},
   "outputs": [
    {
     "name": "stderr",
     "output_type": "stream",
     "text": [
      "D:\\Programs\\Anaconda3\\lib\\site-packages\\bs4\\__init__.py:181: UserWarning: No parser was explicitly specified, so I'm using the best available HTML parser for this system (\"lxml\"). This usually isn't a problem, but if you run this code on another system, or in a different virtual environment, it may use a different parser and behave differently.\n",
      "\n",
      "The code that caused this warning is on line 193 of the file D:\\Programs\\Anaconda3\\lib\\runpy.py. To get rid of this warning, change code that looks like this:\n",
      "\n",
      " BeautifulSoup(YOUR_MARKUP})\n",
      "\n",
      "to this:\n",
      "\n",
      " BeautifulSoup(YOUR_MARKUP, \"lxml\")\n",
      "\n",
      "  markup_type=markup_type))\n"
     ]
    }
   ],
   "source": [
    "from urllib.request import urlopen\n",
    "from bs4 import BeautifulSoup\n",
    "appendedtext = ''\n",
    "for k in range(3):\n",
    "    html = urlopen(articles['response']['docs'][k]['web_url'])\n",
    "    soup = BeautifulSoup(html)\n",
    "    all_data = soup.find_all(\"p\", class_='css-1xyeyil e2kc3sl0')\n",
    "    if len(all_data) == 0 :\n",
    "        all_data = soup.find_all(\"p\", class_='story-body-text story-content')\n",
    "    x = ''\n",
    "    for i in range(len(all_data)):\n",
    "        text = ''\n",
    "        for j in all_data[i].contents:\n",
    "            if j.string is not None:\n",
    "                text += j.string\n",
    "        x += text\n",
    "    appendedtext += x + \"\\n\""
   ]
  },
  {
   "cell_type": "code",
   "execution_count": 401,
   "metadata": {
    "collapsed": true
   },
   "outputs": [],
   "source": [
    "with open(\"NYTimesText16.txt\", \"a\", encoding=\"utf-8\") as myfile:\n",
    "    myfile.write(appendedtext)"
   ]
  },
  {
   "cell_type": "code",
   "execution_count": null,
   "metadata": {
    "collapsed": true
   },
   "outputs": [],
   "source": []
  }
 ],
 "metadata": {
  "kernelspec": {
   "display_name": "Python 3",
   "language": "python",
   "name": "python3"
  },
  "language_info": {
   "codemirror_mode": {
    "name": "ipython",
    "version": 3
   },
   "file_extension": ".py",
   "mimetype": "text/x-python",
   "name": "python",
   "nbconvert_exporter": "python",
   "pygments_lexer": "ipython3",
   "version": "3.6.3"
  }
 },
 "nbformat": 4,
 "nbformat_minor": 2
}
