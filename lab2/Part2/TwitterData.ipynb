{
 "cells": [
  {
   "cell_type": "code",
   "execution_count": 1,
   "metadata": {
    "collapsed": true,
    "scrolled": true
   },
   "outputs": [],
   "source": [
    "#Project done by SHUBHAM SHAILESH PANDEY, UBID - spandey4\n",
    "import pandas as pd\n",
    "import twitter\n",
    "api = twitter.Api(consumer_key='didjpvVB4q7Xr0cx3v8iaGvt0',\n",
    "                  consumer_secret='67w2rUhIYtVuAyPWGcboBvE03QxkpJXdBsndNWjLyKhBzJrxbG',\n",
    "                  access_token_key='3240597631-IUQPsqIzVuvzHFfvyK7BxamZlAHMJIa850lEAcO',\n",
    "                  access_token_secret='4ngsymIIzhPLg8Hb8ml7ha4Bo7l2Xq99eLYO2AhwmIIrg')"
   ]
  },
  {
   "cell_type": "code",
   "execution_count": 4,
   "metadata": {},
   "outputs": [
    {
     "name": "stdout",
     "output_type": "stream",
     "text": [
      "100\n"
     ]
    }
   ],
   "source": [
    "rawq = \"q=cambridge%20analytica%20&result_type=recent&since=2018-03-31&until=2018-04-01&count=100\"\n",
    "results = api.GetSearch(raw_query=rawq)\n",
    "print(len(results))\n",
    "next_max_id=results[-1].id"
   ]
  },
  {
   "cell_type": "code",
   "execution_count": 6,
   "metadata": {},
   "outputs": [
    {
     "name": "stdout",
     "output_type": "stream",
     "text": [
      "980231811891687425\n"
     ]
    }
   ],
   "source": [
    "data = {'text': [], 'user_id':[]}\n",
    "for t in results:\n",
    "        data['text'].append(t.text)\n",
    "        data['user_id'].append(t.user.id)\n",
    "df = pd.DataFrame(data)\n",
    "next_max_id=results[-1].id\n",
    "print(next_max_id)\n",
    "df = df.drop_duplicates('text')\n",
    "df = df.drop_duplicates('user_id')\n",
    "with open(\"tweetData_16.txt\", \"a\", encoding=\"utf-8\") as myfile:\n",
    "    for item in df['text']:\n",
    "        myfile.write(\"%s\\n\" % item)"
   ]
  },
  {
   "cell_type": "code",
   "execution_count": 10,
   "metadata": {},
   "outputs": [
    {
     "name": "stdout",
     "output_type": "stream",
     "text": [
      "100\n"
     ]
    }
   ],
   "source": [
    "rawq = \"q=cambridge%20analytica%20&result_type=recent&since=2018-03-27&max_id=\"+ str(next_max_id) + \"&until=2018-03-28&count=100\"\n",
    "results = api.GetSearch(raw_query=rawq)\n",
    "print(len(results))\n",
    "next_max_id=results[-1].id    "
   ]
  },
  {
   "cell_type": "code",
   "execution_count": null,
   "metadata": {
    "collapsed": true
   },
   "outputs": [],
   "source": []
  }
 ],
 "metadata": {
  "kernelspec": {
   "display_name": "Python 3",
   "language": "python",
   "name": "python3"
  },
  "language_info": {
   "codemirror_mode": {
    "name": "ipython",
    "version": 3
   },
   "file_extension": ".py",
   "mimetype": "text/x-python",
   "name": "python",
   "nbconvert_exporter": "python",
   "pygments_lexer": "ipython3",
   "version": "3.6.3"
  }
 },
 "nbformat": 4,
 "nbformat_minor": 2
}
