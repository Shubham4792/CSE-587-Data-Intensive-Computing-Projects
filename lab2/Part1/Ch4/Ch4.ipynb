{
 "cells": [
  {
   "cell_type": "code",
   "execution_count": 1,
   "metadata": {
    "collapsed": true
   },
   "outputs": [],
   "source": [
    "# Project done by SHUBHAM SHAILESH PANDEY, UBID - spandey4\n",
    "import numpy as np"
   ]
  },
  {
   "cell_type": "code",
   "execution_count": 2,
   "metadata": {},
   "outputs": [
    {
     "name": "stdout",
     "output_type": "stream",
     "text": [
      "ABC\n",
      "ABC\t\n",
      " ABC\n",
      "AB\n"
     ]
    }
   ],
   "source": [
    "print(\"ABC\\t\".strip())\n",
    "print(\" ABC\\t\".lstrip())\n",
    "print(\" ABC\\t\".rstrip())\n",
    "print(\"ABC\".strip(\"C\"))"
   ]
  },
  {
   "cell_type": "code",
   "execution_count": 3,
   "metadata": {},
   "outputs": [
    {
     "name": "stdout",
     "output_type": "stream",
     "text": [
      "1985-08-13 00:00:00\n",
      "2013-08-13 00:00:00\n",
      "2013-08-13 04:15:00\n"
     ]
    }
   ],
   "source": [
    "import dateutil.parser as p\n",
    "print(p.parse(\"August 13, 1985\"))\n",
    "print(p.parse(\"2013-8-13\"))\n",
    "print(p.parse(\"2013-8-13 4:15am\"))"
   ]
  },
  {
   "cell_type": "code",
   "execution_count": 4,
   "metadata": {},
   "outputs": [
    {
     "name": "stdout",
     "output_type": "stream",
     "text": [
      "                Name       Age         Birthdate\n",
      "0  Ms. Janice Joplin        65  January 19, 1943\n",
      "1         Bob Dylan   74 Years       may 24 1941\n",
      "2     Billy Ray Joel      66yo      Feb. 9, 1941\n",
      "\n",
      "\n",
      "                Name  Age   Birthdate First Name Last Name\n",
      "0  Ms. Janice Joplin   65  1943-01-19     Janice    Joplin\n",
      "1         Bob Dylan    74  1941-05-24        Bob     Dylan\n",
      "2     Billy Ray Joel   66  1941-02-09      Billy      Joel\n"
     ]
    }
   ],
   "source": [
    "def get_first_last_name(s):\n",
    " INVALID_NAME_PARTS = [\"mr\", \"ms\", \"mrs\",\n",
    " \"dr\", \"jr\", \"sir\"]\n",
    " parts = s.lower().replace(\".\",\"\").strip().split()\n",
    " parts = [p for p in parts if p not in INVALID_NAME_PARTS]\n",
    " if len(parts)==0:\n",
    "     raise ValueError(\"Name %s is formatted wrong\" % s)\n",
    " first, last = parts[0], parts[-1]\n",
    " first = first[0].upper() + first[1:]\n",
    " last = last[0].upper() + last[1:]\n",
    " return first, last\n",
    "\n",
    "def format_age(s):\n",
    " chars = list(s) # list of characters\n",
    " digit_chars = [c for c in chars if c.isdigit()]\n",
    " return int(\"\".join(digit_chars))\n",
    "\n",
    "def format_date(s):\n",
    " MONTH_MAP = {\n",
    " \"jan\": \"01\", \"feb\": \"02\", \"may\": \"05\"}\n",
    " s = s.strip().lower().replace(\",\", \"\")\n",
    " m, d, y = s.split()\n",
    " if len(y) == 2: y = \"19\" + y\n",
    " if len(d) == 1: d = \"0\" + d\n",
    " return y + \"-\" + MONTH_MAP[m[:3]] + \"-\" + d\n",
    "\n",
    "import pandas as pd\n",
    "df = pd.read_csv(\"try12.txt\", sep=\"|\")\n",
    "print(df)\n",
    "print(\"\\n\")\n",
    "df[\"First Name\"] = df[\"Name\"].apply(lambda s: get_first_last_name(s)[0])\n",
    "df[\"Last Name\"] = df[\"Name\"].apply(lambda s: get_first_last_name(s)[1])\n",
    "df[\"Age\"] = df[\"Age\"].apply(format_age)\n",
    "df[\"Birthdate\"] = df[\"Birthdate\"].apply(format_date).astype(pd.datetime)\n",
    "print(df)"
   ]
  },
  {
   "cell_type": "code",
   "execution_count": 11,
   "metadata": {},
   "outputs": [
    {
     "name": "stdout",
     "output_type": "stream",
     "text": [
      "1600 Pennsylvania Avenue\n",
      "15 Penn Ave.\n",
      "[]\n"
     ]
    },
    {
     "data": {
      "text/plain": [
       "0"
      ]
     },
     "execution_count": 11,
     "metadata": {},
     "output_type": "execute_result"
    }
   ],
   "source": [
    "import re\n",
    "# This matches \"1600 Pennsylvania Ave.\"\n",
    "# It does NOT match \"5 Stony Brook St\"\n",
    "# cuz there is a space in \"Stony Brook\"\n",
    "street_pattern = r\"^[0-9]\\s[A-Z][a-z]*\" + r\"(Street|St|Rd|Road|Ave|Avenue|Blvd|Way|Wy)\\.?$\"\n",
    "# Like the one above, this assumes\n",
    "# there is no space in the town name\n",
    "city_pattern = r\"^[A-Z][a-z]*,\\s[A-Z]{2},[0-9]{5}$\"\n",
    "address_pattern = street_pattern + r\"\\n\" + city_pattern\n",
    "# Compile the string into a regular expression object\n",
    "address_re = re.compile(address_pattern)\n",
    "text = open(\"some_file.txt\", \"r\").read()\n",
    "print(text)\n",
    "matches = re.findall(address_re, text)\n",
    "print(matches)\n",
    "# list of all strings that match\n",
    "open(\"addresses_w_space_between.txt\",\"w\").write(\"\\n\\n\".join(matches))"
   ]
  },
  {
   "cell_type": "code",
   "execution_count": null,
   "metadata": {
    "collapsed": true
   },
   "outputs": [],
   "source": []
  }
 ],
 "metadata": {
  "kernelspec": {
   "display_name": "Python 3",
   "language": "python",
   "name": "python3"
  },
  "language_info": {
   "codemirror_mode": {
    "name": "ipython",
    "version": 3
   },
   "file_extension": ".py",
   "mimetype": "text/x-python",
   "name": "python",
   "nbconvert_exporter": "python",
   "pygments_lexer": "ipython3",
   "version": "3.6.3"
  }
 },
 "nbformat": 4,
 "nbformat_minor": 2
}
