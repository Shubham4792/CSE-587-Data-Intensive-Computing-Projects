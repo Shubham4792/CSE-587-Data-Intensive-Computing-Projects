{
 "cells": [
  {
   "cell_type": "markdown",
   "metadata": {
    "collapsed": true
   },
   "source": [
    "# Project done by SHUBHAM SHAILESH PANDEY, UBID - spandey4"
   ]
  },
  {
   "cell_type": "code",
   "execution_count": 1,
   "metadata": {
    "collapsed": true
   },
   "outputs": [],
   "source": [
    "from nytimesarticle import articleAPI\n",
    "api = articleAPI('1f229c0375cf4155ab7bf894ecea4ff8')"
   ]
  },
  {
   "cell_type": "code",
   "execution_count": 330,
   "metadata": {
    "collapsed": true
   },
   "outputs": [],
   "source": [
    "tmp = []"
   ]
  },
  {
   "cell_type": "markdown",
   "metadata": {},
   "source": [
    "### The following cell searches for NYTimes articles containing the word technology(as an example here) and prints out the URLS returned by the API. These URLs are rejected if they are duplicate or if they do not belong to technology category(as an example here)"
   ]
  },
  {
   "cell_type": "code",
   "execution_count": 426,
   "metadata": {},
   "outputs": [
    {
     "name": "stdout",
     "output_type": "stream",
     "text": [
      "https://www.nytimes.com/2018/03/23/business/elder-orphans-care.html\n",
      "https://www.nytimes.com/2018/03/22/business/shkreli-holmes-fraud.html\n",
      "https://www.nytimes.com/2018/03/19/technology/facebook-alex-stamos.html\n",
      "https://www.nytimes.com/2018/03/15/business/with-one-battle-over-a-bigger-one-looms-for-qualcomm-apple.html\n",
      "https://www.nytimes.com/2018/03/08/business/tariff-trump-trade-wars.html\n",
      "https://www.nytimes.com/2018/03/04/technology/fake-videos-deepfakes.html\n",
      "https://www.nytimes.com/2018/02/19/technology/ai-researchers-desks-boss.html\n",
      "https://www.nytimes.com/2018/02/15/business/inflation-stocks-interest-rates.html\n",
      "https://www.nytimes.com/2018/02/09/technology/farhad-week-tech-homepod-elon-musk.html\n",
      "https://www.nytimes.com/2018/01/28/technology/side-benefit-to-amazons-headquarters-contest-local-expertise.html\n",
      "85\n"
     ]
    }
   ],
   "source": [
    "articles = api.search(q='technology',page = 1)\n",
    "for i in range(10):\n",
    "    x = articles['response']['docs'][i]['web_url']\n",
    "    print(x)\n",
    "    if('technology' in x):\n",
    "        tmp.append(x)\n",
    "    tmp = list(set(tmp))\n",
    "print(len(tmp))"
   ]
  },
  {
   "cell_type": "markdown",
   "metadata": {},
   "source": [
    "### The URLS collected from the step above are used by BeautifulSoup library and the data is scraped from it and written to a file"
   ]
  },
  {
   "cell_type": "code",
   "execution_count": 431,
   "metadata": {
    "scrolled": true
   },
   "outputs": [
    {
     "name": "stderr",
     "output_type": "stream",
     "text": [
      "D:\\Programs\\Anaconda3\\lib\\site-packages\\bs4\\__init__.py:181: UserWarning: No parser was explicitly specified, so I'm using the best available HTML parser for this system (\"lxml\"). This usually isn't a problem, but if you run this code on another system, or in a different virtual environment, it may use a different parser and behave differently.\n",
      "\n",
      "The code that caused this warning is on line 193 of the file D:\\Programs\\Anaconda3\\lib\\runpy.py. To get rid of this warning, change code that looks like this:\n",
      "\n",
      " BeautifulSoup(YOUR_MARKUP})\n",
      "\n",
      "to this:\n",
      "\n",
      " BeautifulSoup(YOUR_MARKUP, \"lxml\")\n",
      "\n",
      "  markup_type=markup_type))\n"
     ]
    }
   ],
   "source": [
    "from urllib.request import urlopen\n",
    "from bs4 import BeautifulSoup\n",
    "count = 0\n",
    "for k in range(len(tmp)):\n",
    "    count = count+1\n",
    "    html = urlopen(tmp[k])\n",
    "    soup = BeautifulSoup(html)\n",
    "    all_data = soup.find_all(\"p\", class_='e2kc3sl0')\n",
    "    if len(all_data) == 0 :\n",
    "        all_data = soup.find_all(\"p\", class_='story-body-text story-content')\n",
    "    x = ''\n",
    "    for i in range(len(all_data)):\n",
    "        text = ''\n",
    "        for j in all_data[i].contents:\n",
    "            if j.string is not None:\n",
    "                text += j.string\n",
    "        x += text\n",
    "    filename = \"./Unknown/Technology/Technology\"+ str(count)+ \".txt\"    \n",
    "    with open(filename, \"w\", encoding=\"utf-8\") as myfile:\n",
    "        myfile.write(x)"
   ]
  },
  {
   "cell_type": "code",
   "execution_count": null,
   "metadata": {
    "collapsed": true
   },
   "outputs": [],
   "source": []
  }
 ],
 "metadata": {
  "kernelspec": {
   "display_name": "Python 3",
   "language": "python",
   "name": "python3"
  },
  "language_info": {
   "codemirror_mode": {
    "name": "ipython",
    "version": 3
   },
   "file_extension": ".py",
   "mimetype": "text/x-python",
   "name": "python",
   "nbconvert_exporter": "python",
   "pygments_lexer": "ipython3",
   "version": "3.6.3"
  }
 },
 "nbformat": 4,
 "nbformat_minor": 2
}
